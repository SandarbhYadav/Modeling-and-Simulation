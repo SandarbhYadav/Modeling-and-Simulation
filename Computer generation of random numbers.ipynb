{
 "cells": [
  {
   "cell_type": "code",
   "execution_count": 1,
   "metadata": {},
   "outputs": [],
   "source": [
    "# Function to generate random numbers \n",
    "def linearCongruentialMethod(Xo, m, a, c, randomNums, noOfRandomNums): \n",
    "  \n",
    "    # Initialize the seed\n",
    "    randomNums[0] = Xo \n",
    "  \n",
    "    # Traverse to generate required numbers of random numbers \n",
    "    for i in range(1, noOfRandomNums): \n",
    "        randomNums[i] = ((randomNums[i - 1] * a) + c) % m "
   ]
  },
  {
   "cell_type": "code",
   "execution_count": 2,
   "metadata": {},
   "outputs": [],
   "source": [
    "if __name__ == '__main__': \n",
    "      \n",
    "    # Seed value \n",
    "    Xo = 42 \n",
    "      \n",
    "    # Modulus parameter \n",
    "    m = 101 \n",
    "      \n",
    "    # Multiplier term \n",
    "    a = 17 \n",
    "      \n",
    "    # Increment term \n",
    "    c = 43\n",
    "  \n",
    "    # Number of Random numbers \n",
    "    # to be generated \n",
    "    noOfRandomNums = 10\n",
    "  \n",
    "    # To store random numbers \n",
    "    randomNums = [0] * (noOfRandomNums) \n",
    "  \n",
    "    # Function Call \n",
    "    linearCongruentialMethod(Xo, m, a, c, randomNums,  noOfRandomNums) "
   ]
  },
  {
   "cell_type": "code",
   "execution_count": 3,
   "metadata": {},
   "outputs": [
    {
     "name": "stdout",
     "output_type": "stream",
     "text": [
      "42 50 85 74 89 41 33 99 9 95 "
     ]
    }
   ],
   "source": [
    "# Print the generated random numbers \n",
    "for i in randomNums: \n",
    "    print(i, end = \" \") "
   ]
  },
  {
   "cell_type": "code",
   "execution_count": null,
   "metadata": {},
   "outputs": [],
   "source": []
  }
 ],
 "metadata": {
  "kernelspec": {
   "display_name": "Python 3",
   "language": "python",
   "name": "python3"
  },
  "language_info": {
   "codemirror_mode": {
    "name": "ipython",
    "version": 3
   },
   "file_extension": ".py",
   "mimetype": "text/x-python",
   "name": "python",
   "nbconvert_exporter": "python",
   "pygments_lexer": "ipython3",
   "version": "3.7.3"
  }
 },
 "nbformat": 4,
 "nbformat_minor": 2
}
